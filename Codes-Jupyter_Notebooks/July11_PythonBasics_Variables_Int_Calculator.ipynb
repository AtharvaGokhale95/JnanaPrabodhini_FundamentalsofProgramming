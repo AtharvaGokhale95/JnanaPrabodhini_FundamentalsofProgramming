{
 "cells": [
  {
   "cell_type": "code",
   "execution_count": 8,
   "metadata": {},
   "outputs": [
    {
     "name": "stdout",
     "output_type": "stream",
     "text": [
      "30\n",
      "Time for Method 1: 0.0006029605865478516\n",
      "30\n",
      "Time for Method 2: 0.00025391578674316406\n",
      "30\n",
      "Time for Method 2: 0.0008449554443359375\n"
     ]
    }
   ],
   "source": [
    "# Addition Operation\n",
    "import time\n",
    "\n",
    "# 1. Method 1\n",
    "start = time.time()\n",
    "a = 10\n",
    "b = 20\n",
    "result = a + b\n",
    "print(result)\n",
    "end = time.time()\n",
    "print(\"Time for Method 1:\", end - start)\n",
    "\n",
    "\n",
    "# 2. Method 2\n",
    "start = time.time()\n",
    "a = 10\n",
    "arr = [10,20]\n",
    "result = sum(arr)\n",
    "print(result)\n",
    "end = time.time()\n",
    "print(\"Time for Method 2:\", end - start)\n",
    "\n",
    "# 3. Method 3\n",
    "# Functionize\n",
    "start = time.time()\n",
    "def addition(a, b):\n",
    "    return a + b\n",
    "\n",
    "result = addition(10, 20)\n",
    "print(result)\n",
    "end = time.time()\n",
    "print(\"Time for Method 2:\", end - start)"
   ]
  },
  {
   "cell_type": "code",
   "execution_count": null,
   "metadata": {},
   "outputs": [],
   "source": []
  }
 ],
 "metadata": {
  "kernelspec": {
   "display_name": "Python 3",
   "language": "python",
   "name": "python3"
  },
  "language_info": {
   "codemirror_mode": {
    "name": "ipython",
    "version": 3
   },
   "file_extension": ".py",
   "mimetype": "text/x-python",
   "name": "python",
   "nbconvert_exporter": "python",
   "pygments_lexer": "ipython3",
   "version": "3.7.6"
  }
 },
 "nbformat": 4,
 "nbformat_minor": 4
}
